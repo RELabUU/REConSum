{
 "cells": [
  {
   "cell_type": "code",
   "execution_count": 1,
   "metadata": {},
   "outputs": [
    {
     "name": "stderr",
     "output_type": "stream",
     "text": [
      "2022-09-30 11:32:48.293694: W tensorflow/stream_executor/platform/default/dso_loader.cc:64] Could not load dynamic library 'libcudart.so.11.0'; dlerror: libcudart.so.11.0: cannot open shared object file: No such file or directory\n",
      "2022-09-30 11:32:48.293769: I tensorflow/stream_executor/cuda/cudart_stub.cc:29] Ignore above cudart dlerror if you do not have a GPU set up on your machine.\n"
     ]
    }
   ],
   "source": [
    "# Import our python files\n",
    "import categorize_relevance, find_questions, preprocessing\n",
    "# Note that this might take some time to load"
   ]
  },
  {
   "cell_type": "code",
   "execution_count": 11,
   "metadata": {},
   "outputs": [],
   "source": [
    "# For demonstration purposes, we will use one of our conversations from our dataset\n",
    "transcription_file = \"../data/example_conversation.txt\"\n",
    "wiki_tfidf_file = \"../data/wiki_tfidf_terms.csv\""
   ]
  },
  {
   "cell_type": "code",
   "execution_count": 2,
   "metadata": {},
   "outputs": [],
   "source": [
    "# Preprocess our text file into speakerturns\n",
    "speakerturns = preprocessing.preprocessing(transcription_file)\n",
    "# Turn our speakerturns into a dataframe, so we can label our data\n",
    "df = preprocessing.create_labeled_dataframe(speakerturns)"
   ]
  },
  {
   "cell_type": "code",
   "execution_count": 3,
   "metadata": {},
   "outputs": [
    {
     "data": {
      "text/html": [
       "<div>\n",
       "<style scoped>\n",
       "    .dataframe tbody tr th:only-of-type {\n",
       "        vertical-align: middle;\n",
       "    }\n",
       "\n",
       "    .dataframe tbody tr th {\n",
       "        vertical-align: top;\n",
       "    }\n",
       "\n",
       "    .dataframe thead th {\n",
       "        text-align: right;\n",
       "    }\n",
       "</style>\n",
       "<table border=\"1\" class=\"dataframe\">\n",
       "  <thead>\n",
       "    <tr style=\"text-align: right;\">\n",
       "      <th></th>\n",
       "      <th>identifier</th>\n",
       "      <th>time</th>\n",
       "      <th>speaker</th>\n",
       "      <th>text</th>\n",
       "      <th>question</th>\n",
       "      <th>relevant</th>\n",
       "    </tr>\n",
       "    <tr>\n",
       "      <th>identifier</th>\n",
       "      <th></th>\n",
       "      <th></th>\n",
       "      <th></th>\n",
       "      <th></th>\n",
       "      <th></th>\n",
       "      <th></th>\n",
       "    </tr>\n",
       "  </thead>\n",
       "  <tbody>\n",
       "    <tr>\n",
       "      <th>0</th>\n",
       "      <td>0</td>\n",
       "      <td>[0:00:00]</td>\n",
       "      <td>spk_0</td>\n",
       "      <td>we're doing I'm *** and this is **** we are co...</td>\n",
       "      <td>0</td>\n",
       "      <td>0</td>\n",
       "    </tr>\n",
       "    <tr>\n",
       "      <th>1</th>\n",
       "      <td>1</td>\n",
       "      <td>[0:01:17]</td>\n",
       "      <td>spk_1</td>\n",
       "      <td>Expense category. So the budget consists of in...</td>\n",
       "      <td>0</td>\n",
       "      <td>0</td>\n",
       "    </tr>\n",
       "    <tr>\n",
       "      <th>2</th>\n",
       "      <td>2</td>\n",
       "      <td>[0:02:15]</td>\n",
       "      <td>spk_2</td>\n",
       "      <td>Okay, so the IFA is like an association of dif...</td>\n",
       "      <td>0</td>\n",
       "      <td>0</td>\n",
       "    </tr>\n",
       "    <tr>\n",
       "      <th>3</th>\n",
       "      <td>3</td>\n",
       "      <td>[0:02:25]</td>\n",
       "      <td>spk_1</td>\n",
       "      <td>No no no no no no. Okay. So the idea is that e...</td>\n",
       "      <td>0</td>\n",
       "      <td>0</td>\n",
       "    </tr>\n",
       "    <tr>\n",
       "      <th>4</th>\n",
       "      <td>4</td>\n",
       "      <td>[0:02:43]</td>\n",
       "      <td>spk_0</td>\n",
       "      <td>Sorry, sorry to interrupt.</td>\n",
       "      <td>0</td>\n",
       "      <td>0</td>\n",
       "    </tr>\n",
       "  </tbody>\n",
       "</table>\n",
       "</div>"
      ],
      "text/plain": [
       "            identifier       time speaker  \\\n",
       "identifier                                  \n",
       "0                    0  [0:00:00]   spk_0   \n",
       "1                    1  [0:01:17]   spk_1   \n",
       "2                    2  [0:02:15]   spk_2   \n",
       "3                    3  [0:02:25]   spk_1   \n",
       "4                    4  [0:02:43]   spk_0   \n",
       "\n",
       "                                                         text  question  \\\n",
       "identifier                                                                \n",
       "0           we're doing I'm *** and this is **** we are co...         0   \n",
       "1           Expense category. So the budget consists of in...         0   \n",
       "2           Okay, so the IFA is like an association of dif...         0   \n",
       "3           No no no no no no. Okay. So the idea is that e...         0   \n",
       "4                                  Sorry, sorry to interrupt.         0   \n",
       "\n",
       "            relevant  \n",
       "identifier            \n",
       "0                  0  \n",
       "1                  0  \n",
       "2                  0  \n",
       "3                  0  \n",
       "4                  0  "
      ]
     },
     "execution_count": 3,
     "metadata": {},
     "output_type": "execute_result"
    }
   ],
   "source": [
    "# This is what our data currently looks like\n",
    "df.head()"
   ]
  },
  {
   "cell_type": "code",
   "execution_count": 5,
   "metadata": {},
   "outputs": [
    {
     "name": "stdout",
     "output_type": "stream",
     "text": [
      "bert-base-uncased found in cache. Loading model...\n"
     ]
    },
    {
     "name": "stderr",
     "output_type": "stream",
     "text": [
      "2022-09-30 11:34:25.052103: W tensorflow/stream_executor/platform/default/dso_loader.cc:64] Could not load dynamic library 'libcuda.so.1'; dlerror: libcuda.so.1: cannot open shared object file: No such file or directory\n",
      "2022-09-30 11:34:25.052580: W tensorflow/stream_executor/cuda/cuda_driver.cc:269] failed call to cuInit: UNKNOWN ERROR (303)\n",
      "2022-09-30 11:34:25.052647: I tensorflow/stream_executor/cuda/cuda_diagnostics.cc:156] kernel driver does not appear to be running on this host (DESKTOP-139JLDD): /proc/driver/nvidia/version does not exist\n",
      "2022-09-30 11:34:25.054772: I tensorflow/core/platform/cpu_feature_guard.cc:151] This TensorFlow binary is optimized with oneAPI Deep Neural Network Library (oneDNN) to use the following CPU instructions in performance-critical operations:  AVX2 FMA\n",
      "To enable them in other operations, rebuild TensorFlow with the appropriate compiler flags.\n",
      "All model checkpoint layers were used when initializing TFBertForSequenceClassification.\n",
      "\n",
      "All the layers of TFBertForSequenceClassification were initialized from the model checkpoint at /root/.dialog-tag/models/bert-base-uncased.\n",
      "If your task is similar to the task the model of the checkpoint was trained on, you can already use TFBertForSequenceClassification for predictions without further training.\n"
     ]
    }
   ],
   "source": [
    "# Finding our questions, using Dialog Acts in our case\n",
    "df_q = find_questions.dialog_act_questions(df)\n",
    "# This might take a while...\n",
    "# Alternatively one could use POS tags:\n",
    "# df_q = find_questions.pos_questions(df) # Note that this requires StanfordCoreNLP to be ran on localhost"
   ]
  },
  {
   "cell_type": "code",
   "execution_count": 8,
   "metadata": {},
   "outputs": [
    {
     "data": {
      "text/html": [
       "<div>\n",
       "<style scoped>\n",
       "    .dataframe tbody tr th:only-of-type {\n",
       "        vertical-align: middle;\n",
       "    }\n",
       "\n",
       "    .dataframe tbody tr th {\n",
       "        vertical-align: top;\n",
       "    }\n",
       "\n",
       "    .dataframe thead th {\n",
       "        text-align: right;\n",
       "    }\n",
       "</style>\n",
       "<table border=\"1\" class=\"dataframe\">\n",
       "  <thead>\n",
       "    <tr style=\"text-align: right;\">\n",
       "      <th></th>\n",
       "      <th>identifier</th>\n",
       "      <th>time</th>\n",
       "      <th>speaker</th>\n",
       "      <th>text</th>\n",
       "      <th>question</th>\n",
       "      <th>relevant</th>\n",
       "    </tr>\n",
       "    <tr>\n",
       "      <th>identifier</th>\n",
       "      <th></th>\n",
       "      <th></th>\n",
       "      <th></th>\n",
       "      <th></th>\n",
       "      <th></th>\n",
       "      <th></th>\n",
       "    </tr>\n",
       "  </thead>\n",
       "  <tbody>\n",
       "    <tr>\n",
       "      <th>0</th>\n",
       "      <td>0</td>\n",
       "      <td>[0:00:00]</td>\n",
       "      <td>spk_0</td>\n",
       "      <td>we're doing I'm *** and this is **** we are co...</td>\n",
       "      <td>1</td>\n",
       "      <td>0</td>\n",
       "    </tr>\n",
       "    <tr>\n",
       "      <th>1</th>\n",
       "      <td>1</td>\n",
       "      <td>[0:01:17]</td>\n",
       "      <td>spk_1</td>\n",
       "      <td>Expense category. So the budget consists of in...</td>\n",
       "      <td>1</td>\n",
       "      <td>0</td>\n",
       "    </tr>\n",
       "    <tr>\n",
       "      <th>2</th>\n",
       "      <td>2</td>\n",
       "      <td>[0:02:15]</td>\n",
       "      <td>spk_2</td>\n",
       "      <td>Okay, so the IFA is like an association of dif...</td>\n",
       "      <td>1</td>\n",
       "      <td>0</td>\n",
       "    </tr>\n",
       "    <tr>\n",
       "      <th>12</th>\n",
       "      <td>12</td>\n",
       "      <td>[0:03:51]</td>\n",
       "      <td>spk_0</td>\n",
       "      <td>Okay. All right. Um and um can you uh give us ...</td>\n",
       "      <td>1</td>\n",
       "      <td>0</td>\n",
       "    </tr>\n",
       "    <tr>\n",
       "      <th>13</th>\n",
       "      <td>13</td>\n",
       "      <td>[0:04:11]</td>\n",
       "      <td>spk_1</td>\n",
       "      <td>for the budgeting system? I think the IFA admi...</td>\n",
       "      <td>1</td>\n",
       "      <td>0</td>\n",
       "    </tr>\n",
       "  </tbody>\n",
       "</table>\n",
       "</div>"
      ],
      "text/plain": [
       "            identifier       time speaker  \\\n",
       "identifier                                  \n",
       "0                    0  [0:00:00]   spk_0   \n",
       "1                    1  [0:01:17]   spk_1   \n",
       "2                    2  [0:02:15]   spk_2   \n",
       "12                  12  [0:03:51]   spk_0   \n",
       "13                  13  [0:04:11]   spk_1   \n",
       "\n",
       "                                                         text  question  \\\n",
       "identifier                                                                \n",
       "0           we're doing I'm *** and this is **** we are co...         1   \n",
       "1           Expense category. So the budget consists of in...         1   \n",
       "2           Okay, so the IFA is like an association of dif...         1   \n",
       "12          Okay. All right. Um and um can you uh give us ...         1   \n",
       "13          for the budgeting system? I think the IFA admi...         1   \n",
       "\n",
       "            relevant  \n",
       "identifier            \n",
       "0                  0  \n",
       "1                  0  \n",
       "2                  0  \n",
       "12                 0  \n",
       "13                 0  "
      ]
     },
     "execution_count": 8,
     "metadata": {},
     "output_type": "execute_result"
    }
   ],
   "source": [
    "# Now our data looks like this, when looking at some of the questions\n",
    "df_q[df_q.question == 1].head()"
   ]
  },
  {
   "cell_type": "code",
   "execution_count": 12,
   "metadata": {},
   "outputs": [
    {
     "name": "stderr",
     "output_type": "stream",
     "text": [
      " 52%|█████▏    | 5381653/10394041 [00:27<00:24, 201406.98it/s]"
     ]
    },
    {
     "name": "stdout",
     "output_type": "stream",
     "text": [
      "Error on: \"−7,3,13,23..\",1,5989879,15.605581769553712\n",
      "\n"
     ]
    },
    {
     "name": "stderr",
     "output_type": "stream",
     "text": [
      " 59%|█████▉    | 6173449/10394041 [00:32<00:19, 215681.93it/s]"
     ]
    },
    {
     "name": "stdout",
     "output_type": "stream",
     "text": [
      "Error on: \"2,4,6,8..\",1,5989879,15.605581769553712\n",
      "\n"
     ]
    },
    {
     "name": "stderr",
     "output_type": "stream",
     "text": [
      " 73%|███████▎  | 7546001/10394041 [00:39<00:13, 210333.76it/s]"
     ]
    },
    {
     "name": "stdout",
     "output_type": "stream",
     "text": [
      "Error on: \"১,৭৫,৫৭,৩৪৫\",1,5989879,15.605581769553712\n",
      "\n"
     ]
    },
    {
     "name": "stderr",
     "output_type": "stream",
     "text": [
      " 79%|███████▉  | 8256742/10394041 [00:42<00:11, 184680.09it/s]"
     ]
    },
    {
     "name": "stdout",
     "output_type": "stream",
     "text": [
      "Error on: \",3f.d.m.,3s.h.p.d.,8s.h.p.d\",1,5989879,15.605581769553712\n",
      "\n"
     ]
    },
    {
     "name": "stderr",
     "output_type": "stream",
     "text": [
      "10394040it [00:54, 192086.17it/s]1 [00:54<00:00, 186540.42it/s]\n",
      "100%|█████████▉| 10394040/10394041 [00:54<00:00, 192073.27it/s]\n",
      "/usr/local/lib/python3.8/dist-packages/sklearn/utils/deprecation.py:87: FutureWarning: Function get_feature_names is deprecated; get_feature_names is deprecated in 1.0 and will be removed in 1.2. Please use get_feature_names_out instead.\n",
      "  warnings.warn(msg, category=FutureWarning)\n",
      "100%|██████████| 10099022/10099022 [02:23<00:00, 70152.18it/s]\n"
     ]
    },
    {
     "name": "stdout",
     "output_type": "stream",
     "text": [
      "Keywords of transcript according to wiki TF-IDF ['ifa', 'scheduling', 'referees', 'budgeting', 'referee', 'notifications', 'notification', 'portal', 'manually', 'data', 'scheduler', 'budget', 'schedule', 'say', 'kind', 'faa', 'explicate', 'insert', 'system', 'policy', 'reporting', 'update', 'expect', 'expecting', 'game', 'teams', 'example', 'players', 'understand', 'question', 'communication']\n"
     ]
    }
   ],
   "source": [
    "# Now, we will create our relevance indicating words list from our original transcription file\n",
    "# Here, we take 60 of the words after which we filter them, using our wikipedia tfidf file\n",
    "relevance_words = categorize_relevance.tfidf_word_list(transcription_file, 60, wiki_tfidf_file)\n",
    "# This will take a while, as we process a big TF-IDF file from the wikipedia dump"
   ]
  },
  {
   "cell_type": "code",
   "execution_count": 13,
   "metadata": {},
   "outputs": [],
   "source": [
    "# Finally, we filter out our questions using these relevance indicating words\n",
    "df_rq = categorize_relevance.filter_questions(df_q, relevance_words)"
   ]
  },
  {
   "cell_type": "code",
   "execution_count": 14,
   "metadata": {},
   "outputs": [
    {
     "data": {
      "text/html": [
       "<div>\n",
       "<style scoped>\n",
       "    .dataframe tbody tr th:only-of-type {\n",
       "        vertical-align: middle;\n",
       "    }\n",
       "\n",
       "    .dataframe tbody tr th {\n",
       "        vertical-align: top;\n",
       "    }\n",
       "\n",
       "    .dataframe thead th {\n",
       "        text-align: right;\n",
       "    }\n",
       "</style>\n",
       "<table border=\"1\" class=\"dataframe\">\n",
       "  <thead>\n",
       "    <tr style=\"text-align: right;\">\n",
       "      <th></th>\n",
       "      <th>identifier</th>\n",
       "      <th>time</th>\n",
       "      <th>speaker</th>\n",
       "      <th>text</th>\n",
       "      <th>question</th>\n",
       "      <th>relevant</th>\n",
       "    </tr>\n",
       "    <tr>\n",
       "      <th>identifier</th>\n",
       "      <th></th>\n",
       "      <th></th>\n",
       "      <th></th>\n",
       "      <th></th>\n",
       "      <th></th>\n",
       "      <th></th>\n",
       "    </tr>\n",
       "  </thead>\n",
       "  <tbody>\n",
       "    <tr>\n",
       "      <th>0</th>\n",
       "      <td>0</td>\n",
       "      <td>[0:00:00]</td>\n",
       "      <td>spk_0</td>\n",
       "      <td>we're doing I'm *** and this is **** we are co...</td>\n",
       "      <td>1</td>\n",
       "      <td>1</td>\n",
       "    </tr>\n",
       "    <tr>\n",
       "      <th>1</th>\n",
       "      <td>1</td>\n",
       "      <td>[0:01:17]</td>\n",
       "      <td>spk_1</td>\n",
       "      <td>Expense category. So the budget consists of in...</td>\n",
       "      <td>1</td>\n",
       "      <td>1</td>\n",
       "    </tr>\n",
       "    <tr>\n",
       "      <th>2</th>\n",
       "      <td>2</td>\n",
       "      <td>[0:02:15]</td>\n",
       "      <td>spk_2</td>\n",
       "      <td>Okay, so the IFA is like an association of dif...</td>\n",
       "      <td>1</td>\n",
       "      <td>1</td>\n",
       "    </tr>\n",
       "    <tr>\n",
       "      <th>12</th>\n",
       "      <td>12</td>\n",
       "      <td>[0:03:51]</td>\n",
       "      <td>spk_0</td>\n",
       "      <td>Okay. All right. Um and um can you uh give us ...</td>\n",
       "      <td>1</td>\n",
       "      <td>1</td>\n",
       "    </tr>\n",
       "    <tr>\n",
       "      <th>13</th>\n",
       "      <td>13</td>\n",
       "      <td>[0:04:11]</td>\n",
       "      <td>spk_1</td>\n",
       "      <td>for the budgeting system? I think the IFA admi...</td>\n",
       "      <td>1</td>\n",
       "      <td>1</td>\n",
       "    </tr>\n",
       "  </tbody>\n",
       "</table>\n",
       "</div>"
      ],
      "text/plain": [
       "            identifier       time speaker  \\\n",
       "identifier                                  \n",
       "0                    0  [0:00:00]   spk_0   \n",
       "1                    1  [0:01:17]   spk_1   \n",
       "2                    2  [0:02:15]   spk_2   \n",
       "12                  12  [0:03:51]   spk_0   \n",
       "13                  13  [0:04:11]   spk_1   \n",
       "\n",
       "                                                         text  question  \\\n",
       "identifier                                                                \n",
       "0           we're doing I'm *** and this is **** we are co...         1   \n",
       "1           Expense category. So the budget consists of in...         1   \n",
       "2           Okay, so the IFA is like an association of dif...         1   \n",
       "12          Okay. All right. Um and um can you uh give us ...         1   \n",
       "13          for the budgeting system? I think the IFA admi...         1   \n",
       "\n",
       "            relevant  \n",
       "identifier            \n",
       "0                  1  \n",
       "1                  1  \n",
       "2                  1  \n",
       "12                 1  \n",
       "13                 1  "
      ]
     },
     "execution_count": 14,
     "metadata": {},
     "output_type": "execute_result"
    }
   ],
   "source": [
    "# Our relevant questions finally look like this:\n",
    "df_rq[df_rq.relevant == 1].head()"
   ]
  }
 ],
 "metadata": {
  "kernelspec": {
   "display_name": "Python 3 (ipykernel)",
   "language": "python",
   "name": "python3"
  },
  "language_info": {
   "codemirror_mode": {
    "name": "ipython",
    "version": 3
   },
   "file_extension": ".py",
   "mimetype": "text/x-python",
   "name": "python",
   "nbconvert_exporter": "python",
   "pygments_lexer": "ipython3",
   "version": "3.10.5"
  },
  "vscode": {
   "interpreter": {
    "hash": "916dbcbb3f70747c44a77c7bcd40155683ae19c65e1c03b4aa3499c5328201f1"
   }
  }
 },
 "nbformat": 4,
 "nbformat_minor": 2
}
